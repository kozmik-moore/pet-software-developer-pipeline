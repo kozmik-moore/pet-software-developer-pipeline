{
 "cells": [
  {
   "cell_type": "markdown",
   "id": "2d87ea02-5b59-46e0-b59e-b6801142bab2",
   "metadata": {},
   "source": [
    "# Creating a Data Pipeline for HappyPaws\n",
    "\n",
    "HappyPaws creates fun and educational apps for pet owners. \n",
    "\n",
    "HappyPaws wants to help pet owners understand their pets better by tracking their activities and health through the app. \n",
    "\n",
    "The data engineering team is responsible for making sure all the pet data from thousands of users is organized and safe, so pet owners can get tips to keep their pets happy and healthy.\n",
    "\n"
   ]
  },
  {
   "cell_type": "markdown",
   "id": "012b5c7e-84a1-47aa-91e5-69237d0f7768",
   "metadata": {},
   "source": [
    "## Task\n",
    "\n",
    "HappyPaws has collected three datasets over the past year: \n",
    " - \"pet_activities.csv\" which logs daily activities of pets, \n",
    " - \"pet_health.csv\" which records vet visits and health issues, and \n",
    " - \"users.csv\" which contains information about the pet owners. \n",
    "\n",
    "Each dataset contains unique identifiers for pets and/or their owners. \n",
    "\n",
    "The engineers developing the app currently write code to cross reference all of these data sources. \n",
    "\n",
    "They want to make things easier by having a single table with all data included.\n",
    "\n",
    "Your manager has asked you to write a Python function that cleans and merges these datasets into a single dataset. \n",
    "\n",
    "The final dataset should provide a comprehensive view of each pet's activities, health records, and owner information. \n",
    "\n",
    "- To test your code, your manager will run only the code `all_pet_data('pet_activities.csv', 'pet_health.csv', 'users.csv')`\n",
    "- Your `all_pet_data()` function must return a DataFrame, with columns as described below.\n",
    "- All columns must accurately match the descriptions provided below, including names."
   ]
  },
  {
   "cell_type": "markdown",
   "id": "ad7f8345-891c-4a4a-a37c-f89d0a22f997",
   "metadata": {},
   "source": [
    "## Data\n",
    "\n",
    "The data that has been provided has the following structure\n",
    "\n",
    "![image](../assets/image.png)\n",
    "\n",
    "The function that you write must return data as described below. There should be a unique row for each activity/health visit. \n",
    "\n",
    "Where missing values are permitted, they should be in the default Python format.\n",
    "\n",
    "|Column Name | Description |\n",
    "|-------|-------|\n",
    "| pet_id | Unique identifier for each pet. There should not be any missing values.|\n",
    "| date | The date of the activity recorded or the date of the health visit, in date format. There should not be any missing values.|\n",
    "| activity_type | The type of activity, one of 'Walking', 'Playing', 'Resting' or for rows that relate to a health visit, the value 'Health'. Missing values are permitted.|\n",
    "| duration_minutes | The duration of the activity in minutes. For rows that relate to health visits, this should be 0. Missing values for other activities are permitted.|\n",
    "| issue | The health issue identified or check-up note. For rows that relate to activities, this should be a missing value. Missing values for health activities are permitted.|\n",
    "| resolution | The outcome or advice given for the issue. For rows that relate to activities, this should be a missing value. Missing values for health activities are permitted.|\n",
    "| owner_id | Unique identifier for the pet owner. All pets must have an owner.|\n",
    "| owner_age_group | The age group of the owner (e.g., 18-25, 26-35, etc.). Missing values are permitted.|\n",
    "| pet_type | The type of pet (e.g., Dog, Cat). Missing values are permitted.|"
   ]
  },
  {
   "cell_type": "markdown",
   "id": "4c442fa0",
   "metadata": {},
   "source": [
    "## Code"
   ]
  },
  {
   "cell_type": "markdown",
   "id": "c36d93d6",
   "metadata": {},
   "source": [
    "### Imports"
   ]
  },
  {
   "cell_type": "code",
   "execution_count": null,
   "id": "1f8d38f6-dcbc-4fb4-a70a-8e2ca60c6546",
   "metadata": {},
   "outputs": [],
   "source": [
    "# Imports\n",
    "import numpy as np\n",
    "import seaborn as sns\n",
    "import matplotlib.pyplot as plt\n",
    "from utilities.processes import all_pet_data\n",
    "from utilities.config import data, assets, code, products"
   ]
  },
  {
   "cell_type": "markdown",
   "id": "fe33980f",
   "metadata": {},
   "source": [
    "### Data preparation"
   ]
  },
  {
   "cell_type": "code",
   "execution_count": 5,
   "id": "e5574385",
   "metadata": {},
   "outputs": [
    {
     "name": "stdout",
     "output_type": "stream",
     "text": [
      "<class 'pandas.core.frame.DataFrame'>\n",
      "RangeIndex: 1878 entries, 0 to 1877\n",
      "Data columns (total 9 columns):\n",
      " #   Column            Non-Null Count  Dtype         \n",
      "---  ------            --------------  -----         \n",
      " 0   pet_id            1878 non-null   int64         \n",
      " 1   date              1878 non-null   datetime64[ns]\n",
      " 2   activity_type     1878 non-null   category      \n",
      " 3   duration_minutes  1691 non-null   float64       \n",
      " 4   issue             940 non-null    category      \n",
      " 5   resolution        940 non-null    category      \n",
      " 6   owner_id          1878 non-null   int64         \n",
      " 7   owner_age_group   1878 non-null   object        \n",
      " 8   pet_type          1878 non-null   category      \n",
      "dtypes: category(4), datetime64[ns](1), float64(1), int64(2), object(1)\n",
      "memory usage: 81.8+ KB\n"
     ]
    },
    {
     "data": {
      "text/plain": [
       "None"
      ]
     },
     "metadata": {},
     "output_type": "display_data"
    },
    {
     "data": {
      "text/html": [
       "<div>\n",
       "<style scoped>\n",
       "    .dataframe tbody tr th:only-of-type {\n",
       "        vertical-align: middle;\n",
       "    }\n",
       "\n",
       "    .dataframe tbody tr th {\n",
       "        vertical-align: top;\n",
       "    }\n",
       "\n",
       "    .dataframe thead th {\n",
       "        text-align: right;\n",
       "    }\n",
       "</style>\n",
       "<table border=\"1\" class=\"dataframe\">\n",
       "  <thead>\n",
       "    <tr style=\"text-align: right;\">\n",
       "      <th></th>\n",
       "      <th>pet_id</th>\n",
       "      <th>date</th>\n",
       "      <th>duration_minutes</th>\n",
       "      <th>owner_id</th>\n",
       "    </tr>\n",
       "  </thead>\n",
       "  <tbody>\n",
       "    <tr>\n",
       "      <th>count</th>\n",
       "      <td>1878.000000</td>\n",
       "      <td>1878</td>\n",
       "      <td>1691.000000</td>\n",
       "      <td>1878.000000</td>\n",
       "    </tr>\n",
       "    <tr>\n",
       "      <th>mean</th>\n",
       "      <td>5159.256656</td>\n",
       "      <td>2023-02-13 17:15:54.632588032</td>\n",
       "      <td>20.086339</td>\n",
       "      <td>4915.624601</td>\n",
       "    </tr>\n",
       "    <tr>\n",
       "      <th>min</th>\n",
       "      <td>9.000000</td>\n",
       "      <td>2022-04-01 00:00:00</td>\n",
       "      <td>0.000000</td>\n",
       "      <td>12.000000</td>\n",
       "    </tr>\n",
       "    <tr>\n",
       "      <th>25%</th>\n",
       "      <td>2794.000000</td>\n",
       "      <td>2022-09-11 06:00:00</td>\n",
       "      <td>0.000000</td>\n",
       "      <td>2313.500000</td>\n",
       "    </tr>\n",
       "    <tr>\n",
       "      <th>50%</th>\n",
       "      <td>5288.000000</td>\n",
       "      <td>2023-02-08 00:00:00</td>\n",
       "      <td>0.000000</td>\n",
       "      <td>4945.000000</td>\n",
       "    </tr>\n",
       "    <tr>\n",
       "      <th>75%</th>\n",
       "      <td>7757.000000</td>\n",
       "      <td>2023-07-26 00:00:00</td>\n",
       "      <td>40.000000</td>\n",
       "      <td>7472.000000</td>\n",
       "    </tr>\n",
       "    <tr>\n",
       "      <th>max</th>\n",
       "      <td>9988.000000</td>\n",
       "      <td>2023-12-30 00:00:00</td>\n",
       "      <td>90.000000</td>\n",
       "      <td>9972.000000</td>\n",
       "    </tr>\n",
       "    <tr>\n",
       "      <th>std</th>\n",
       "      <td>2871.496497</td>\n",
       "      <td>NaN</td>\n",
       "      <td>28.300327</td>\n",
       "      <td>2959.977588</td>\n",
       "    </tr>\n",
       "  </tbody>\n",
       "</table>\n",
       "</div>"
      ],
      "text/plain": [
       "            pet_id                           date  duration_minutes  \\\n",
       "count  1878.000000                           1878       1691.000000   \n",
       "mean   5159.256656  2023-02-13 17:15:54.632588032         20.086339   \n",
       "min       9.000000            2022-04-01 00:00:00          0.000000   \n",
       "25%    2794.000000            2022-09-11 06:00:00          0.000000   \n",
       "50%    5288.000000            2023-02-08 00:00:00          0.000000   \n",
       "75%    7757.000000            2023-07-26 00:00:00         40.000000   \n",
       "max    9988.000000            2023-12-30 00:00:00         90.000000   \n",
       "std    2871.496497                            NaN         28.300327   \n",
       "\n",
       "          owner_id  \n",
       "count  1878.000000  \n",
       "mean   4915.624601  \n",
       "min      12.000000  \n",
       "25%    2313.500000  \n",
       "50%    4945.000000  \n",
       "75%    7472.000000  \n",
       "max    9972.000000  \n",
       "std    2959.977588  "
      ]
     },
     "metadata": {},
     "output_type": "display_data"
    }
   ],
   "source": [
    "filelist = [data.activities, data.health, data.users]\n",
    "cleaned = all_pet_data(*filelist, sort=True)\n",
    "cleaned.to_csv(data / 'cleaned.csv', index=False)\n",
    "display(cleaned.info())\n",
    "display(cleaned.describe())"
   ]
  },
  {
   "cell_type": "markdown",
   "id": "039bf370",
   "metadata": {},
   "source": [
    "## Inspection and visualization"
   ]
  },
  {
   "cell_type": "code",
   "execution_count": 3,
   "id": "b6a55b83",
   "metadata": {},
   "outputs": [
    {
     "data": {
      "image/png": "[encoded data removed]",
      "text/plain": [
       "<Figure size 640x480 with 1 Axes>"
      ]
     },
     "metadata": {},
     "output_type": "display_data"
    }
   ],
   "source": [
    "sns.set_palette('hls')\n",
    "pet_counts = cleaned.groupby('pet_type', observed=True).pet_id.nunique().reset_index(name='counts')\n",
    "ax = sns.barplot(pet_counts, x='pet_type', y='counts', hue='pet_type')\n",
    "ax.set_xlabel('')\n",
    "ax.set_ylabel('')\n",
    "ax.set_title('Unique pet counts')\n",
    "plt.show()"
   ]
  },
  {
   "cell_type": "code",
   "execution_count": 4,
   "id": "9ec08c4e",
   "metadata": {},
   "outputs": [
    {
     "data": {
      "image/png": "[encoded data removed]",
      "text/plain": [
       "<Figure size 640x480 with 1 Axes>"
      ]
     },
     "metadata": {},
     "output_type": "display_data"
    }
   ],
   "source": [
    "unique = cleaned.drop_duplicates(subset=['pet_id', 'owner_id'])[['owner_age_group', 'pet_type']]\n",
    "unique_counts = unique.groupby('owner_age_group').pet_type.value_counts().reset_index(name='counts').sort_values(['pet_type', 'owner_age_group']).set_index(['pet_type', 'owner_age_group'])\n",
    "# age_counts = cleaned.groupby(['owner_age_group', 'pet_type'], observed=True).pet_id.nunique()\n",
    "# age_counts = age_counts.reset_index(name='counts').set_index('pet_type')\n",
    "pet_types = list(unique_counts.index.get_level_values(0).unique())\n",
    "age_groups = list(unique_counts.index.get_level_values(1).unique())\n",
    "totals = np.array([0 for x in range(len(age_groups))])\n",
    "for i, pet in enumerate(pet_types):\n",
    "    new = unique_counts.loc[pet].counts.values\n",
    "    plt.bar(age_groups, new, label=pet, color=sns.color_palette()[i], bottom=totals)\n",
    "    totals += new\n",
    "plt.legend(loc='best', bbox_to_anchor=(1, 0.7), reverse=True)\n",
    "plt.suptitle('Pet counts by owner age group')\n",
    "plt.show()"
   ]
  },
  {
   "cell_type": "code",
   "execution_count": 5,
   "id": "d1904fb7",
   "metadata": {},
   "outputs": [
    {
     "data": {
      "image/png": "[encoded data removed]",
      "text/plain": [
       "<Figure size 640x480 with 1 Axes>"
      ]
     },
     "metadata": {},
     "output_type": "display_data"
    }
   ],
   "source": [
    "unique = cleaned.drop_duplicates(subset=['pet_id', 'owner_id'])[['owner_age_group', 'pet_type']]\n",
    "unique_prop = unique.groupby('owner_age_group', observed=True).pet_type.value_counts(normalize=True).reset_index(name='prop').sort_values(['pet_type', 'owner_age_group',]).set_index(['pet_type', 'owner_age_group'], drop=True)\n",
    "totals = np.array([0.0 for x in range(len(age_groups))])\n",
    "for i, pet in enumerate(pet_types):\n",
    "    new = unique_prop.loc[pet].prop.values\n",
    "    plt.bar(age_groups, new, label=pet, color=sns.color_palette()[i], bottom=totals)\n",
    "    totals += new\n",
    "plt.legend(loc='best', bbox_to_anchor=(1, 0.7), reverse=True)\n",
    "plt.suptitle('Pet proportions by owner age group')\n",
    "plt.show()"
   ]
  },
  {
   "cell_type": "code",
   "execution_count": 6,
   "id": "06bfb1de",
   "metadata": {},
   "outputs": [],
   "source": [
    "# Average number of health activities per month by animal"
   ]
  },
  {
   "cell_type": "code",
   "execution_count": 7,
   "id": "8c00e4a9",
   "metadata": {},
   "outputs": [],
   "source": [
    "# Distribution of non-health activities by month (max, min, average)"
   ]
  }
 ],
 "metadata": {
  "colab": {
   "name": "Welcome to DataCamp Workspaces.ipynb",
   "provenance": []
  },
  "kernelspec": {
   "display_name": ".venv",
   "language": "python",
   "name": "python3"
  },
  "language_info": {
   "codemirror_mode": {
    "name": "ipython",
    "version": 3
   },
   "file_extension": ".py",
   "mimetype": "text/x-python",
   "name": "python",
   "nbconvert_exporter": "python",
   "pygments_lexer": "ipython3",
   "version": "3.11.5"
  }
 },
 "nbformat": 4,
 "nbformat_minor": 5
}
