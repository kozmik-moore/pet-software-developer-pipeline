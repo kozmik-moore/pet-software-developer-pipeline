{
 "cells": [
  {
   "cell_type": "markdown",
   "id": "2d87ea02-5b59-46e0-b59e-b6801142bab2",
   "metadata": {},
   "source": [
    "# Creating a Data Pipeline for HappyPaws\n",
    "\n",
    "HappyPaws creates fun and educational apps for pet owners. \n",
    "\n",
    "HappyPaws wants to help pet owners understand their pets better by tracking their activities and health through the app. \n",
    "\n",
    "The data engineering team is responsible for making sure all the pet data from thousands of users is organized and safe, so pet owners can get tips to keep their pets happy and healthy.\n",
    "\n"
   ]
  },
  {
   "cell_type": "markdown",
   "id": "012b5c7e-84a1-47aa-91e5-69237d0f7768",
   "metadata": {},
   "source": [
    "## Task\n",
    "\n",
    "HappyPaws has collected three datasets over the past year: \n",
    " - \"pet_activities.csv\" which logs daily activities of pets, \n",
    " - \"pet_health.csv\" which records vet visits and health issues, and \n",
    " - \"users.csv\" which contains information about the pet owners. \n",
    "\n",
    "Each dataset contains unique identifiers for pets and/or their owners. \n",
    "\n",
    "The engineers developing the app currently write code to cross reference all of these data sources. \n",
    "\n",
    "They want to make things easier by having a single table with all data included.\n",
    "\n",
    "Your manager has asked you to write a Python function that cleans and merges these datasets into a single dataset. \n",
    "\n",
    "The final dataset should provide a comprehensive view of each pet's activities, health records, and owner information. \n",
    "\n",
    "- To test your code, your manager will run only the code `all_pet_data('pet_activities.csv', 'pet_health.csv', 'users.csv')`\n",
    "- Your `all_pet_data()` function must return a DataFrame, with columns as described below.\n",
    "- All columns must accurately match the descriptions provided below, including names."
   ]
  },
  {
   "cell_type": "markdown",
   "id": "ad7f8345-891c-4a4a-a37c-f89d0a22f997",
   "metadata": {},
   "source": [
    "## Data\n",
    "\n",
    "The data that has been provided has the following structure\n",
    "\n",
    "![image](../assets/image.png)\n",
    "\n",
    "The function that you write must return data as described below. There should be a unique row for each activity/health visit. \n",
    "\n",
    "Where missing values are permitted, they should be in the default Python format.\n",
    "\n",
    "|Column Name | Description |\n",
    "|-------|-------|\n",
    "| pet_id | Unique identifier for each pet. There should not be any missing values.|\n",
    "| date | The date of the activity recorded or the date of the health visit, in date format. There should not be any missing values.|\n",
    "| activity_type | The type of activity, one of 'Walking', 'Playing', 'Resting' or for rows that relate to a health visit, the value 'Health'. Missing values are permitted.|\n",
    "| duration_minutes | The duration of the activity in minutes. For rows that relate to health visits, this should be 0. Missing values for other activities are permitted.|\n",
    "| issue | The health issue identified or check-up note. For rows that relate to activities, this should be a missing value. Missing values for health activities are permitted.|\n",
    "| resolution | The outcome or advice given for the issue. For rows that relate to activities, this should be a missing value. Missing values for health activities are permitted.|\n",
    "| owner_id | Unique identifier for the pet owner. All pets must have an owner.|\n",
    "| owner_age_group | The age group of the owner (e.g., 18-25, 26-35, etc.). Missing values are permitted.|\n",
    "| pet_type | The type of pet (e.g., Dog, Cat). Missing values are permitted.|"
   ]
  },
  {
   "cell_type": "markdown",
   "id": "4c442fa0",
   "metadata": {},
   "source": [
    "## Code"
   ]
  },
  {
   "cell_type": "markdown",
   "id": "c36d93d6",
   "metadata": {},
   "source": [
    "### Imports"
   ]
  },
  {
   "cell_type": "code",
   "execution_count": null,
   "id": "1f8d38f6-dcbc-4fb4-a70a-8e2ca60c6546",
   "metadata": {},
   "outputs": [],
   "source": [
    "# Imports\n",
    "import pandas as pd\n",
    "import numpy as np\n",
    "import seaborn as sns\n",
    "from utilities.processes import all_pet_data\n",
    "from utilities.config import data, assets, code, products"
   ]
  },
  {
   "cell_type": "markdown",
   "id": "fe33980f",
   "metadata": {},
   "source": [
    "### Data preparation"
   ]
  },
  {
   "cell_type": "code",
   "execution_count": 5,
   "id": "e5574385",
   "metadata": {},
   "outputs": [],
   "source": [
    "filelist = [data.activities, data.health, data.users]\n",
    "cleaned = all_pet_data(*filelist, sort=True)\n",
    "cleaned.to_csv(data.path / 'cleaned.csv', index=False)"
   ]
  },
  {
   "cell_type": "markdown",
   "id": "039bf370",
   "metadata": {},
   "source": [
    "## Inspection and visualization"
   ]
  },
  {
   "cell_type": "code",
   "execution_count": null,
   "id": "b6a55b83",
   "metadata": {},
   "outputs": [],
   "source": []
  }
 ],
 "metadata": {
  "colab": {
   "name": "Welcome to DataCamp Workspaces.ipynb",
   "provenance": []
  },
  "kernelspec": {
   "display_name": ".venv",
   "language": "python",
   "name": "python3"
  },
  "language_info": {
   "codemirror_mode": {
    "name": "ipython",
    "version": 3
   },
   "file_extension": ".py",
   "mimetype": "text/x-python",
   "name": "python",
   "nbconvert_exporter": "python",
   "pygments_lexer": "ipython3",
   "version": "3.11.5"
  }
 },
 "nbformat": 4,
 "nbformat_minor": 5
}
