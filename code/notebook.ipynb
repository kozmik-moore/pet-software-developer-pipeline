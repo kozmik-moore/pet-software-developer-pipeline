{
 "cells": [
  {
   "cell_type": "markdown",
   "id": "2d87ea02-5b59-46e0-b59e-b6801142bab2",
   "metadata": {},
   "source": [
    "# Creating a Data Pipeline for HappyPaws\n",
    "\n",
    "HappyPaws creates fun and educational apps for pet owners. \n",
    "\n",
    "HappyPaws wants to help pet owners understand their pets better by tracking their activities and health through the app. \n",
    "\n",
    "The data engineering team is responsible for making sure all the pet data from thousands of users is organized and safe, so pet owners can get tips to keep their pets happy and healthy.\n",
    "\n"
   ]
  },
  {
   "cell_type": "markdown",
   "id": "012b5c7e-84a1-47aa-91e5-69237d0f7768",
   "metadata": {},
   "source": [
    "## Task\n",
    "\n",
    "HappyPaws has collected three datasets over the past year: \n",
    " - \"pet_activities.csv\" which logs daily activities of pets, \n",
    " - \"pet_health.csv\" which records vet visits and health issues, and \n",
    " - \"users.csv\" which contains information about the pet owners. \n",
    "\n",
    "Each dataset contains unique identifiers for pets and/or their owners. \n",
    "\n",
    "The engineers developing the app currently write code to cross reference all of these data sources. \n",
    "\n",
    "They want to make things easier by having a single table with all data included.\n",
    "\n",
    "Your manager has asked you to write a Python function that cleans and merges these datasets into a single dataset. \n",
    "\n",
    "The final dataset should provide a comprehensive view of each pet's activities, health records, and owner information. \n",
    "\n",
    "- To test your code, your manager will run only the code `all_pet_data('pet_activities.csv', 'pet_health.csv', 'users.csv')`\n",
    "- Your `all_pet_data()` function must return a DataFrame, with columns as described below.\n",
    "- All columns must accurately match the descriptions provided below, including names."
   ]
  },
  {
   "cell_type": "markdown",
   "id": "ad7f8345-891c-4a4a-a37c-f89d0a22f997",
   "metadata": {},
   "source": [
    "## Data\n",
    "\n",
    "The data that has been provided has the following structure\n",
    "\n",
    "![image](../assets/image.png)\n",
    "\n",
    "The function that you write must return data as described below. There should be a unique row for each activity/health visit. \n",
    "\n",
    "Where missing values are permitted, they should be in the default Python format.\n",
    "\n",
    "|Column Name | Description |\n",
    "|-------|-------|\n",
    "| pet_id | Unique identifier for each pet. There should not be any missing values.|\n",
    "| date | The date of the activity recorded or the date of the health visit, in date format. There should not be any missing values.|\n",
    "| activity_type | The type of activity, one of 'Walking', 'Playing', 'Resting' or for rows that relate to a health visit, the value 'Health'. Missing values are permitted.|\n",
    "| duration_minutes | The duration of the activity in minutes. For rows that relate to health visits, this should be 0. Missing values for other activities are permitted.|\n",
    "| issue | The health issue identified or check-up note. For rows that relate to activities, this should be a missing value. Missing values for health activities are permitted.|\n",
    "| resolution | The outcome or advice given for the issue. For rows that relate to activities, this should be a missing value. Missing values for health activities are permitted.|\n",
    "| owner_id | Unique identifier for the pet owner. All pets must have an owner.|\n",
    "| owner_age_group | The age group of the owner (e.g., 18-25, 26-35, etc.). Missing values are permitted.|\n",
    "| pet_type | The type of pet (e.g., Dog, Cat). Missing values are permitted.|"
   ]
  },
  {
   "cell_type": "markdown",
   "id": "4c442fa0",
   "metadata": {},
   "source": [
    "## Code"
   ]
  },
  {
   "cell_type": "markdown",
   "id": "c36d93d6",
   "metadata": {},
   "source": [
    "### Imports"
   ]
  },
  {
   "cell_type": "code",
   "execution_count": 96,
   "id": "1f8d38f6-dcbc-4fb4-a70a-8e2ca60c6546",
   "metadata": {},
   "outputs": [],
   "source": [
    "# Imports\n",
    "import numpy as np\n",
    "import seaborn as sns\n",
    "import matplotlib.pyplot as plt\n",
    "from utilities.processes import all_pet_data\n",
    "from utilities.config import data, assets, code, products"
   ]
  },
  {
   "cell_type": "markdown",
   "id": "fe33980f",
   "metadata": {},
   "source": [
    "### Data preparation"
   ]
  },
  {
   "cell_type": "code",
   "execution_count": 97,
   "id": "e5574385",
   "metadata": {},
   "outputs": [
    {
     "data": {
      "text/html": [
       "<div>\n",
       "<style scoped>\n",
       "    .dataframe tbody tr th:only-of-type {\n",
       "        vertical-align: middle;\n",
       "    }\n",
       "\n",
       "    .dataframe tbody tr th {\n",
       "        vertical-align: top;\n",
       "    }\n",
       "\n",
       "    .dataframe thead th {\n",
       "        text-align: right;\n",
       "    }\n",
       "</style>\n",
       "<table border=\"1\" class=\"dataframe\">\n",
       "  <thead>\n",
       "    <tr style=\"text-align: right;\">\n",
       "      <th></th>\n",
       "      <th>pet_id</th>\n",
       "      <th>date</th>\n",
       "      <th>activity_type</th>\n",
       "      <th>duration_minutes</th>\n",
       "      <th>issue</th>\n",
       "      <th>resolution</th>\n",
       "      <th>owner_id</th>\n",
       "      <th>owner_age_group</th>\n",
       "      <th>pet_type</th>\n",
       "    </tr>\n",
       "  </thead>\n",
       "  <tbody>\n",
       "    <tr>\n",
       "      <th>0</th>\n",
       "      <td>9</td>\n",
       "      <td>2022-06-01</td>\n",
       "      <td>Playing</td>\n",
       "      <td>80.0</td>\n",
       "      <td>NaN</td>\n",
       "      <td>NaN</td>\n",
       "      <td>1451</td>\n",
       "      <td>46-55</td>\n",
       "      <td>Hamster</td>\n",
       "    </tr>\n",
       "    <tr>\n",
       "      <th>1</th>\n",
       "      <td>9</td>\n",
       "      <td>2023-01-13</td>\n",
       "      <td>Health</td>\n",
       "      <td>0.0</td>\n",
       "      <td>Dental Cleaning</td>\n",
       "      <td>Cleaning done, no dental issues</td>\n",
       "      <td>1451</td>\n",
       "      <td>46-55</td>\n",
       "      <td>Hamster</td>\n",
       "    </tr>\n",
       "    <tr>\n",
       "      <th>2</th>\n",
       "      <td>9</td>\n",
       "      <td>2023-08-02</td>\n",
       "      <td>Health</td>\n",
       "      <td>0.0</td>\n",
       "      <td>Injury</td>\n",
       "      <td>Sprain identified, rest and limited movement a...</td>\n",
       "      <td>1451</td>\n",
       "      <td>46-55</td>\n",
       "      <td>Hamster</td>\n",
       "    </tr>\n",
       "    <tr>\n",
       "      <th>3</th>\n",
       "      <td>9</td>\n",
       "      <td>2023-12-01</td>\n",
       "      <td>Health</td>\n",
       "      <td>0.0</td>\n",
       "      <td>Dental Cleaning</td>\n",
       "      <td>Cleaning done, no dental issues</td>\n",
       "      <td>1451</td>\n",
       "      <td>46-55</td>\n",
       "      <td>Hamster</td>\n",
       "    </tr>\n",
       "    <tr>\n",
       "      <th>4</th>\n",
       "      <td>9</td>\n",
       "      <td>2023-12-15</td>\n",
       "      <td>Health</td>\n",
       "      <td>0.0</td>\n",
       "      <td>Annual Checkup</td>\n",
       "      <td>All clear, healthy diet recommended</td>\n",
       "      <td>1451</td>\n",
       "      <td>46-55</td>\n",
       "      <td>Hamster</td>\n",
       "    </tr>\n",
       "    <tr>\n",
       "      <th>...</th>\n",
       "      <td>...</td>\n",
       "      <td>...</td>\n",
       "      <td>...</td>\n",
       "      <td>...</td>\n",
       "      <td>...</td>\n",
       "      <td>...</td>\n",
       "      <td>...</td>\n",
       "      <td>...</td>\n",
       "      <td>...</td>\n",
       "    </tr>\n",
       "    <tr>\n",
       "      <th>1873</th>\n",
       "      <td>9968</td>\n",
       "      <td>2023-04-30</td>\n",
       "      <td>Health</td>\n",
       "      <td>0.0</td>\n",
       "      <td>Annual Checkup</td>\n",
       "      <td>All clear, healthy diet recommended</td>\n",
       "      <td>8847</td>\n",
       "      <td>56-65</td>\n",
       "      <td>Hamster</td>\n",
       "    </tr>\n",
       "    <tr>\n",
       "      <th>1874</th>\n",
       "      <td>9968</td>\n",
       "      <td>2023-10-11</td>\n",
       "      <td>Health</td>\n",
       "      <td>0.0</td>\n",
       "      <td>Annual Checkup</td>\n",
       "      <td>Vaccination completed, next due in 1 year</td>\n",
       "      <td>8847</td>\n",
       "      <td>56-65</td>\n",
       "      <td>Hamster</td>\n",
       "    </tr>\n",
       "    <tr>\n",
       "      <th>1875</th>\n",
       "      <td>9988</td>\n",
       "      <td>2022-11-07</td>\n",
       "      <td>Playing</td>\n",
       "      <td>73.0</td>\n",
       "      <td>NaN</td>\n",
       "      <td>NaN</td>\n",
       "      <td>5933</td>\n",
       "      <td>56-65</td>\n",
       "      <td>Rabbit</td>\n",
       "    </tr>\n",
       "    <tr>\n",
       "      <th>1876</th>\n",
       "      <td>9988</td>\n",
       "      <td>2023-06-28</td>\n",
       "      <td>Playing</td>\n",
       "      <td>NaN</td>\n",
       "      <td>NaN</td>\n",
       "      <td>NaN</td>\n",
       "      <td>5933</td>\n",
       "      <td>56-65</td>\n",
       "      <td>Rabbit</td>\n",
       "    </tr>\n",
       "    <tr>\n",
       "      <th>1877</th>\n",
       "      <td>9988</td>\n",
       "      <td>2023-11-16</td>\n",
       "      <td>Resting</td>\n",
       "      <td>72.0</td>\n",
       "      <td>NaN</td>\n",
       "      <td>NaN</td>\n",
       "      <td>5933</td>\n",
       "      <td>56-65</td>\n",
       "      <td>Rabbit</td>\n",
       "    </tr>\n",
       "  </tbody>\n",
       "</table>\n",
       "<p>1878 rows × 9 columns</p>\n",
       "</div>"
      ],
      "text/plain": [
       "      pet_id       date activity_type  duration_minutes            issue  \\\n",
       "0          9 2022-06-01       Playing              80.0              NaN   \n",
       "1          9 2023-01-13        Health               0.0  Dental Cleaning   \n",
       "2          9 2023-08-02        Health               0.0           Injury   \n",
       "3          9 2023-12-01        Health               0.0  Dental Cleaning   \n",
       "4          9 2023-12-15        Health               0.0   Annual Checkup   \n",
       "...      ...        ...           ...               ...              ...   \n",
       "1873    9968 2023-04-30        Health               0.0   Annual Checkup   \n",
       "1874    9968 2023-10-11        Health               0.0   Annual Checkup   \n",
       "1875    9988 2022-11-07       Playing              73.0              NaN   \n",
       "1876    9988 2023-06-28       Playing               NaN              NaN   \n",
       "1877    9988 2023-11-16       Resting              72.0              NaN   \n",
       "\n",
       "                                             resolution  owner_id  \\\n",
       "0                                                   NaN      1451   \n",
       "1                       Cleaning done, no dental issues      1451   \n",
       "2     Sprain identified, rest and limited movement a...      1451   \n",
       "3                       Cleaning done, no dental issues      1451   \n",
       "4                   All clear, healthy diet recommended      1451   \n",
       "...                                                 ...       ...   \n",
       "1873                All clear, healthy diet recommended      8847   \n",
       "1874          Vaccination completed, next due in 1 year      8847   \n",
       "1875                                                NaN      5933   \n",
       "1876                                                NaN      5933   \n",
       "1877                                                NaN      5933   \n",
       "\n",
       "     owner_age_group pet_type  \n",
       "0              46-55  Hamster  \n",
       "1              46-55  Hamster  \n",
       "2              46-55  Hamster  \n",
       "3              46-55  Hamster  \n",
       "4              46-55  Hamster  \n",
       "...              ...      ...  \n",
       "1873           56-65  Hamster  \n",
       "1874           56-65  Hamster  \n",
       "1875           56-65   Rabbit  \n",
       "1876           56-65   Rabbit  \n",
       "1877           56-65   Rabbit  \n",
       "\n",
       "[1878 rows x 9 columns]"
      ]
     },
     "metadata": {},
     "output_type": "display_data"
    }
   ],
   "source": [
    "filelist = [data.activities, data.health, data.users]\n",
    "cleaned = all_pet_data(*filelist, sort=True)\n",
    "cleaned.to_csv(data.path / 'cleaned.csv', index=False)\n",
    "display(cleaned)"
   ]
  },
  {
   "cell_type": "markdown",
   "id": "039bf370",
   "metadata": {},
   "source": [
    "## Inspection and visualization"
   ]
  },
  {
   "cell_type": "code",
   "execution_count": 98,
   "id": "b6a55b83",
   "metadata": {},
   "outputs": [
    {
     "data": {
      "image/png": "[encoded data removed]",
      "text/plain": [
       "<Figure size 640x480 with 1 Axes>"
      ]
     },
     "metadata": {},
     "output_type": "display_data"
    },
    {
     "data": {
      "text/plain": [
       "pet_type\n",
       "Fish       417\n",
       "Rabbit     407\n",
       "Dog        392\n",
       "Hamster    376\n",
       "Cat        286\n",
       "Name: count, dtype: int64"
      ]
     },
     "metadata": {},
     "output_type": "display_data"
    }
   ],
   "source": [
    "ax = sns.countplot(cleaned, x='pet_type')\n",
    "ax.set_xlabel('')\n",
    "ax.set_ylabel('')\n",
    "ax.set_title('Pet types')\n",
    "plt.show()\n",
    "display(cleaned.pet_type.value_counts())\n"
   ]
  },
  {
   "cell_type": "code",
   "execution_count": 142,
   "id": "9ec08c4e",
   "metadata": {},
   "outputs": [
    {
     "data": {
      "image/png": "[encoded data removed]",
      "text/plain": [
       "<Figure size 640x480 with 1 Axes>"
      ]
     },
     "metadata": {},
     "output_type": "display_data"
    }
   ],
   "source": [
    "owner_age_counts = cleaned.groupby('owner_age_group').pet_type.value_counts()\n",
    "age_groups = sorted(list(set(owner_age_counts.index.get_level_values(0))))\n",
    "pet_types = sorted(list(set(owner_age_counts.index.get_level_values(1))))\n",
    "heights = np.array([0 for x in range(len(pet_types))])\n",
    "for i, group in enumerate(age_groups):\n",
    "    new = owner_age_counts.loc[group, pet_types]\n",
    "    plt.bar(pet_types, new, label=group, color=sns.color_palette()[i], bottom=heights)\n",
    "    heights += new.values\n",
    "plt.legend(loc='best', bbox_to_anchor=(1, 0.7), reverse=True)\n",
    "plt.show()"
   ]
  }
 ],
 "metadata": {
  "colab": {
   "name": "Welcome to DataCamp Workspaces.ipynb",
   "provenance": []
  },
  "kernelspec": {
   "display_name": ".venv",
   "language": "python",
   "name": "python3"
  },
  "language_info": {
   "codemirror_mode": {
    "name": "ipython",
    "version": 3
   },
   "file_extension": ".py",
   "mimetype": "text/x-python",
   "name": "python",
   "nbconvert_exporter": "python",
   "pygments_lexer": "ipython3",
   "version": "3.11.5"
  }
 },
 "nbformat": 4,
 "nbformat_minor": 5
}
